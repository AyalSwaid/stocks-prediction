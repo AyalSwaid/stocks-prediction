{
  "cells": [
    {
      "cell_type": "markdown",
      "id": "rapid-breach",
      "metadata": {
        "id": "rapid-breach"
      },
      "source": [
        "# stocks X sentiment analysis dataset\n",
        "this notebook idea is to do sentiment analysis about socks related tweets and check the correlation between \n",
        "these tweets and the actual stocks prices, and to check if we can predict stocks changes by the tweets\n",
        "\n"
      ]
    },
    {
      "cell_type": "code",
      "execution_count": null,
      "id": "united-harbor",
      "metadata": {
        "id": "united-harbor",
        "outputId": "acf67dfd-ca64-4ec5-9433-aeae0db0e943"
      },
      "outputs": [
        {
          "name": "stdout",
          "output_type": "stream",
          "text": [
            "Downloading stock-tweets-for-sentiment-analysis-and-prediction.zip to C:\\Users\\ayals\\OneDrive\\שולחן העבודה\\stocks_data\n",
            "\n"
          ]
        },
        {
          "name": "stderr",
          "output_type": "stream",
          "text": [
            "\n",
            "  0%|          | 0.00/6.59M [00:00<?, ?B/s]\n",
            " 15%|█▌        | 1.00M/6.59M [00:01<00:05, 979kB/s]\n",
            " 30%|███       | 2.00M/6.59M [00:01<00:03, 1.41MB/s]\n",
            " 45%|████▌     | 3.00M/6.59M [00:02<00:02, 1.59MB/s]\n",
            " 61%|██████    | 4.00M/6.59M [00:02<00:01, 1.52MB/s]\n",
            " 76%|███████▌  | 5.00M/6.59M [00:03<00:01, 1.59MB/s]\n",
            " 91%|█████████ | 6.00M/6.59M [00:04<00:00, 1.61MB/s]\n",
            "100%|██████████| 6.59M/6.59M [00:04<00:00, 1.66MB/s]\n",
            "100%|██████████| 6.59M/6.59M [00:04<00:00, 1.55MB/s]\n"
          ]
        }
      ],
      "source": [
        "# !pip install kaggle\n",
        "# before using kaggle commands put kaggle.json token file in user directory\n",
        "# import zipfile\n",
        "# !kaggle datasets download -d equinxx/stock-tweets-for-sentiment-analysis-and-prediction\n",
        "\n",
        "# z= zipfile.ZipFile('stock-tweets-for-sentiment-analysis-and-prediction.zip')\n",
        "# z.extractall()"
      ]
    },
    {
      "cell_type": "markdown",
      "id": "italic-pride",
      "metadata": {
        "id": "italic-pride"
      },
      "source": [
        "## imports"
      ]
    },
    {
      "cell_type": "code",
      "execution_count": 2,
      "id": "durable-furniture",
      "metadata": {
        "colab": {
          "base_uri": "https://localhost:8080/"
        },
        "id": "durable-furniture",
        "outputId": "41415c20-727a-444e-d48d-506a54d038a8"
      },
      "outputs": [
        {
          "output_type": "stream",
          "name": "stdout",
          "text": [
            "Looking in indexes: https://pypi.org/simple, https://us-python.pkg.dev/colab-wheels/public/simple/\n",
            "Requirement already satisfied: nltk in /usr/local/lib/python3.8/dist-packages (3.7)\n",
            "Requirement already satisfied: regex>=2021.8.3 in /usr/local/lib/python3.8/dist-packages (from nltk) (2022.6.2)\n",
            "Requirement already satisfied: tqdm in /usr/local/lib/python3.8/dist-packages (from nltk) (4.64.1)\n",
            "Requirement already satisfied: click in /usr/local/lib/python3.8/dist-packages (from nltk) (7.1.2)\n",
            "Requirement already satisfied: joblib in /usr/local/lib/python3.8/dist-packages (from nltk) (1.2.0)\n"
          ]
        },
        {
          "output_type": "stream",
          "name": "stderr",
          "text": [
            "[nltk_data] Downloading package stopwords to /root/nltk_data...\n",
            "[nltk_data]   Unzipping corpora/stopwords.zip.\n",
            "[nltk_data] Downloading package vader_lexicon to /root/nltk_data...\n"
          ]
        },
        {
          "output_type": "execute_result",
          "data": {
            "text/plain": [
              "True"
            ]
          },
          "metadata": {},
          "execution_count": 2
        }
      ],
      "source": [
        "import pandas as pd\n",
        "import numpy as np\n",
        "import matplotlib.pyplot as plt\n",
        "from matplotlib import style\n",
        "style.use('ggplot')\n",
        "# nlp\n",
        "import re\n",
        "!pip install nltk\n",
        "import nltk\n",
        "nltk.download('stopwords')\n",
        "from nltk.corpus import stopwords\n",
        "from nltk.stem import LancasterStemmer\n",
        "from nltk.sentiment import SentimentIntensityAnalyzer# classification\n",
        "nltk.download('vader_lexicon')"
      ]
    },
    {
      "cell_type": "markdown",
      "source": [
        "# Explore the overall datasets"
      ],
      "metadata": {
        "id": "S5rMM0tcoseV"
      },
      "id": "S5rMM0tcoseV"
    },
    {
      "cell_type": "code",
      "execution_count": 3,
      "id": "logical-grass",
      "metadata": {
        "colab": {
          "base_uri": "https://localhost:8080/",
          "height": 423
        },
        "id": "logical-grass",
        "outputId": "096c17f6-3e94-461d-bf06-20f17e7d6fec"
      },
      "outputs": [
        {
          "output_type": "execute_result",
          "data": {
            "text/plain": [
              "                            date  \\\n",
              "0      2022-09-29 23:41:16+00:00   \n",
              "1      2022-09-29 23:24:43+00:00   \n",
              "2      2022-09-29 23:18:08+00:00   \n",
              "3      2022-09-29 22:40:07+00:00   \n",
              "4      2022-09-29 22:27:05+00:00   \n",
              "...                          ...   \n",
              "80788  2021-10-07 17:11:57+00:00   \n",
              "80789  2021-10-04 17:05:59+00:00   \n",
              "80790  2021-10-01 04:43:41+00:00   \n",
              "80791  2021-10-01 00:03:32+00:00   \n",
              "80792  2021-09-30 10:22:52+00:00   \n",
              "\n",
              "                                                   tweet Stock Name  \\\n",
              "0      Mainstream media has done an amazing job at br...       TSLA   \n",
              "1      Tesla delivery estimates are at around 364k fr...       TSLA   \n",
              "2      3/ Even if I include 63.0M unvested RSUs as of...       TSLA   \n",
              "3      @RealDanODowd @WholeMarsBlog @Tesla Hahaha why...       TSLA   \n",
              "4      @RealDanODowd @Tesla Stop trying to kill kids,...       TSLA   \n",
              "...                                                  ...        ...   \n",
              "80788  Some of the fastest growing tech stocks on the...       XPEV   \n",
              "80789  With earnings on the horizon, here is a quick ...       XPEV   \n",
              "80790  Our record delivery results are a testimony of...       XPEV   \n",
              "80791  We delivered 10,412 Smart EVs in Sep 2021, rea...       XPEV   \n",
              "80792  Why can XPeng P5 deliver outstanding performan...       XPEV   \n",
              "\n",
              "      Company Name  \n",
              "0      Tesla, Inc.  \n",
              "1      Tesla, Inc.  \n",
              "2      Tesla, Inc.  \n",
              "3      Tesla, Inc.  \n",
              "4      Tesla, Inc.  \n",
              "...            ...  \n",
              "80788   XPeng Inc.  \n",
              "80789   XPeng Inc.  \n",
              "80790   XPeng Inc.  \n",
              "80791   XPeng Inc.  \n",
              "80792   XPeng Inc.  \n",
              "\n",
              "[80793 rows x 4 columns]"
            ],
            "text/html": [
              "\n",
              "  <div id=\"df-4619381c-f9c0-4d23-a76c-21582d2e0c07\">\n",
              "    <div class=\"colab-df-container\">\n",
              "      <div>\n",
              "<style scoped>\n",
              "    .dataframe tbody tr th:only-of-type {\n",
              "        vertical-align: middle;\n",
              "    }\n",
              "\n",
              "    .dataframe tbody tr th {\n",
              "        vertical-align: top;\n",
              "    }\n",
              "\n",
              "    .dataframe thead th {\n",
              "        text-align: right;\n",
              "    }\n",
              "</style>\n",
              "<table border=\"1\" class=\"dataframe\">\n",
              "  <thead>\n",
              "    <tr style=\"text-align: right;\">\n",
              "      <th></th>\n",
              "      <th>date</th>\n",
              "      <th>tweet</th>\n",
              "      <th>Stock Name</th>\n",
              "      <th>Company Name</th>\n",
              "    </tr>\n",
              "  </thead>\n",
              "  <tbody>\n",
              "    <tr>\n",
              "      <th>0</th>\n",
              "      <td>2022-09-29 23:41:16+00:00</td>\n",
              "      <td>Mainstream media has done an amazing job at br...</td>\n",
              "      <td>TSLA</td>\n",
              "      <td>Tesla, Inc.</td>\n",
              "    </tr>\n",
              "    <tr>\n",
              "      <th>1</th>\n",
              "      <td>2022-09-29 23:24:43+00:00</td>\n",
              "      <td>Tesla delivery estimates are at around 364k fr...</td>\n",
              "      <td>TSLA</td>\n",
              "      <td>Tesla, Inc.</td>\n",
              "    </tr>\n",
              "    <tr>\n",
              "      <th>2</th>\n",
              "      <td>2022-09-29 23:18:08+00:00</td>\n",
              "      <td>3/ Even if I include 63.0M unvested RSUs as of...</td>\n",
              "      <td>TSLA</td>\n",
              "      <td>Tesla, Inc.</td>\n",
              "    </tr>\n",
              "    <tr>\n",
              "      <th>3</th>\n",
              "      <td>2022-09-29 22:40:07+00:00</td>\n",
              "      <td>@RealDanODowd @WholeMarsBlog @Tesla Hahaha why...</td>\n",
              "      <td>TSLA</td>\n",
              "      <td>Tesla, Inc.</td>\n",
              "    </tr>\n",
              "    <tr>\n",
              "      <th>4</th>\n",
              "      <td>2022-09-29 22:27:05+00:00</td>\n",
              "      <td>@RealDanODowd @Tesla Stop trying to kill kids,...</td>\n",
              "      <td>TSLA</td>\n",
              "      <td>Tesla, Inc.</td>\n",
              "    </tr>\n",
              "    <tr>\n",
              "      <th>...</th>\n",
              "      <td>...</td>\n",
              "      <td>...</td>\n",
              "      <td>...</td>\n",
              "      <td>...</td>\n",
              "    </tr>\n",
              "    <tr>\n",
              "      <th>80788</th>\n",
              "      <td>2021-10-07 17:11:57+00:00</td>\n",
              "      <td>Some of the fastest growing tech stocks on the...</td>\n",
              "      <td>XPEV</td>\n",
              "      <td>XPeng Inc.</td>\n",
              "    </tr>\n",
              "    <tr>\n",
              "      <th>80789</th>\n",
              "      <td>2021-10-04 17:05:59+00:00</td>\n",
              "      <td>With earnings on the horizon, here is a quick ...</td>\n",
              "      <td>XPEV</td>\n",
              "      <td>XPeng Inc.</td>\n",
              "    </tr>\n",
              "    <tr>\n",
              "      <th>80790</th>\n",
              "      <td>2021-10-01 04:43:41+00:00</td>\n",
              "      <td>Our record delivery results are a testimony of...</td>\n",
              "      <td>XPEV</td>\n",
              "      <td>XPeng Inc.</td>\n",
              "    </tr>\n",
              "    <tr>\n",
              "      <th>80791</th>\n",
              "      <td>2021-10-01 00:03:32+00:00</td>\n",
              "      <td>We delivered 10,412 Smart EVs in Sep 2021, rea...</td>\n",
              "      <td>XPEV</td>\n",
              "      <td>XPeng Inc.</td>\n",
              "    </tr>\n",
              "    <tr>\n",
              "      <th>80792</th>\n",
              "      <td>2021-09-30 10:22:52+00:00</td>\n",
              "      <td>Why can XPeng P5 deliver outstanding performan...</td>\n",
              "      <td>XPEV</td>\n",
              "      <td>XPeng Inc.</td>\n",
              "    </tr>\n",
              "  </tbody>\n",
              "</table>\n",
              "<p>80793 rows × 4 columns</p>\n",
              "</div>\n",
              "      <button class=\"colab-df-convert\" onclick=\"convertToInteractive('df-4619381c-f9c0-4d23-a76c-21582d2e0c07')\"\n",
              "              title=\"Convert this dataframe to an interactive table.\"\n",
              "              style=\"display:none;\">\n",
              "        \n",
              "  <svg xmlns=\"http://www.w3.org/2000/svg\" height=\"24px\"viewBox=\"0 0 24 24\"\n",
              "       width=\"24px\">\n",
              "    <path d=\"M0 0h24v24H0V0z\" fill=\"none\"/>\n",
              "    <path d=\"M18.56 5.44l.94 2.06.94-2.06 2.06-.94-2.06-.94-.94-2.06-.94 2.06-2.06.94zm-11 1L8.5 8.5l.94-2.06 2.06-.94-2.06-.94L8.5 2.5l-.94 2.06-2.06.94zm10 10l.94 2.06.94-2.06 2.06-.94-2.06-.94-.94-2.06-.94 2.06-2.06.94z\"/><path d=\"M17.41 7.96l-1.37-1.37c-.4-.4-.92-.59-1.43-.59-.52 0-1.04.2-1.43.59L10.3 9.45l-7.72 7.72c-.78.78-.78 2.05 0 2.83L4 21.41c.39.39.9.59 1.41.59.51 0 1.02-.2 1.41-.59l7.78-7.78 2.81-2.81c.8-.78.8-2.07 0-2.86zM5.41 20L4 18.59l7.72-7.72 1.47 1.35L5.41 20z\"/>\n",
              "  </svg>\n",
              "      </button>\n",
              "      \n",
              "  <style>\n",
              "    .colab-df-container {\n",
              "      display:flex;\n",
              "      flex-wrap:wrap;\n",
              "      gap: 12px;\n",
              "    }\n",
              "\n",
              "    .colab-df-convert {\n",
              "      background-color: #E8F0FE;\n",
              "      border: none;\n",
              "      border-radius: 50%;\n",
              "      cursor: pointer;\n",
              "      display: none;\n",
              "      fill: #1967D2;\n",
              "      height: 32px;\n",
              "      padding: 0 0 0 0;\n",
              "      width: 32px;\n",
              "    }\n",
              "\n",
              "    .colab-df-convert:hover {\n",
              "      background-color: #E2EBFA;\n",
              "      box-shadow: 0px 1px 2px rgba(60, 64, 67, 0.3), 0px 1px 3px 1px rgba(60, 64, 67, 0.15);\n",
              "      fill: #174EA6;\n",
              "    }\n",
              "\n",
              "    [theme=dark] .colab-df-convert {\n",
              "      background-color: #3B4455;\n",
              "      fill: #D2E3FC;\n",
              "    }\n",
              "\n",
              "    [theme=dark] .colab-df-convert:hover {\n",
              "      background-color: #434B5C;\n",
              "      box-shadow: 0px 1px 3px 1px rgba(0, 0, 0, 0.15);\n",
              "      filter: drop-shadow(0px 1px 2px rgba(0, 0, 0, 0.3));\n",
              "      fill: #FFFFFF;\n",
              "    }\n",
              "  </style>\n",
              "\n",
              "      <script>\n",
              "        const buttonEl =\n",
              "          document.querySelector('#df-4619381c-f9c0-4d23-a76c-21582d2e0c07 button.colab-df-convert');\n",
              "        buttonEl.style.display =\n",
              "          google.colab.kernel.accessAllowed ? 'block' : 'none';\n",
              "\n",
              "        async function convertToInteractive(key) {\n",
              "          const element = document.querySelector('#df-4619381c-f9c0-4d23-a76c-21582d2e0c07');\n",
              "          const dataTable =\n",
              "            await google.colab.kernel.invokeFunction('convertToInteractive',\n",
              "                                                     [key], {});\n",
              "          if (!dataTable) return;\n",
              "\n",
              "          const docLinkHtml = 'Like what you see? Visit the ' +\n",
              "            '<a target=\"_blank\" href=https://colab.research.google.com/notebooks/data_table.ipynb>data table notebook</a>'\n",
              "            + ' to learn more about interactive tables.';\n",
              "          element.innerHTML = '';\n",
              "          dataTable['output_type'] = 'display_data';\n",
              "          await google.colab.output.renderOutput(dataTable, element);\n",
              "          const docLink = document.createElement('div');\n",
              "          docLink.innerHTML = docLinkHtml;\n",
              "          element.appendChild(docLink);\n",
              "        }\n",
              "      </script>\n",
              "    </div>\n",
              "  </div>\n",
              "  "
            ]
          },
          "metadata": {},
          "execution_count": 3
        }
      ],
      "source": [
        "tweets = pd.read_csv('stock_tweets.csv')\n",
        "\n",
        "# changing col names\n",
        "tweets.rename(columns = {'Date':'date','Tweet':'tweet'}, inplace=True)\n",
        "\n",
        "tweets"
      ]
    },
    {
      "cell_type": "code",
      "execution_count": 4,
      "id": "nutritional-missile",
      "metadata": {
        "colab": {
          "base_uri": "https://localhost:8080/"
        },
        "id": "nutritional-missile",
        "outputId": "5a18315a-9774-41bc-86a0-33e86c4a28be"
      },
      "outputs": [
        {
          "output_type": "stream",
          "name": "stdout",
          "text": [
            "<class 'pandas.core.frame.DataFrame'>\n",
            "RangeIndex: 80793 entries, 0 to 80792\n",
            "Data columns (total 4 columns):\n",
            " #   Column        Non-Null Count  Dtype \n",
            "---  ------        --------------  ----- \n",
            " 0   date          80793 non-null  object\n",
            " 1   tweet         80793 non-null  object\n",
            " 2   Stock Name    80793 non-null  object\n",
            " 3   Company Name  80793 non-null  object\n",
            "dtypes: object(4)\n",
            "memory usage: 2.5+ MB\n"
          ]
        }
      ],
      "source": [
        "tweets.info()"
      ]
    },
    {
      "cell_type": "markdown",
      "source": [
        "## Check the companies we working with"
      ],
      "metadata": {
        "id": "ltvZcD3Co0jZ"
      },
      "id": "ltvZcD3Co0jZ"
    },
    {
      "cell_type": "code",
      "execution_count": 5,
      "id": "amino-airfare",
      "metadata": {
        "colab": {
          "base_uri": "https://localhost:8080/"
        },
        "id": "amino-airfare",
        "outputId": "8a7e8261-6f66-425a-a307-0bb2692f1f53"
      },
      "outputs": [
        {
          "output_type": "execute_result",
          "data": {
            "text/plain": [
              "(array(['TSLA', 'MSFT', 'PG', 'META', 'AMZN', 'GOOG', 'AMD', 'AAPL',\n",
              "        'NFLX', 'TSM', 'KO', 'F', 'COST', 'DIS', 'VZ', 'CRM', 'INTC', 'BA',\n",
              "        'BX', 'NOC', 'PYPL', 'ENPH', 'NIO', 'ZS', 'XPEV'], dtype=object),\n",
              " '',\n",
              " array(['Tesla, Inc.', 'Microsoft Corporation', 'Procter & Gamble Company',\n",
              "        'Meta Platforms, Inc.', 'Amazon.com, Inc.', 'Alphabet Inc.',\n",
              "        'Advanced Micro Devices, Inc.', 'Apple Inc.', 'Netflix, Inc.',\n",
              "        'Taiwan Semiconductor Manufacturing Company Limited',\n",
              "        'The Coca-Cola Company', 'Ford Motor Company',\n",
              "        'Costco Wholesale Corporation', 'The Walt Disney Company',\n",
              "        'Verizon Communications Inc.', 'Salesforce, Inc.',\n",
              "        'Intel Corporation', 'The Boeing Company', 'Blackstone Inc.',\n",
              "        'Northrop Grumman Corporation', 'PayPal Holdings, Inc.',\n",
              "        'Enphase Energy, Inc.', 'NIO Inc.', 'Zscaler, Inc.', 'XPeng Inc.'],\n",
              "       dtype=object))"
            ]
          },
          "metadata": {},
          "execution_count": 5
        }
      ],
      "source": [
        "\n",
        "tweets[\"Stock Name\"].unique(),\"\",tweets[\"Company Name\"].unique()\n"
      ]
    },
    {
      "cell_type": "code",
      "execution_count": 6,
      "id": "mysterious-denver",
      "metadata": {
        "colab": {
          "base_uri": "https://localhost:8080/"
        },
        "id": "mysterious-denver",
        "outputId": "d12087ad-5949-4ca6-d7d7-e04e914da08e"
      },
      "outputs": [
        {
          "output_type": "execute_result",
          "data": {
            "text/plain": [
              "2950.3118214348506"
            ]
          },
          "metadata": {},
          "execution_count": 6
        }
      ],
      "source": [
        "# do simple tokenizing and calculate the S/W ratio\n",
        "tokenized = tweets.tweet.apply(lambda r: [w for w in r.split()])\n",
        "tweets.shape[0] / tokenized.apply(lambda e: len(e)).values.mean()\n"
      ]
    },
    {
      "cell_type": "markdown",
      "source": [
        "## check each company occurances counts in the data"
      ],
      "metadata": {
        "id": "RkbcDs5-o9U3"
      },
      "id": "RkbcDs5-o9U3"
    },
    {
      "cell_type": "code",
      "execution_count": 7,
      "id": "tutorial-fault",
      "metadata": {
        "scrolled": true,
        "colab": {
          "base_uri": "https://localhost:8080/",
          "height": 299
        },
        "id": "tutorial-fault",
        "outputId": "8a57dcd8-d41a-4ff7-a1f3-19c410e5cf60"
      },
      "outputs": [
        {
          "output_type": "display_data",
          "data": {
            "text/plain": [
              "<Figure size 432x288 with 1 Axes>"
            ],
            "image/png": "[encoded data removed]"
          },
          "metadata": {}
        }
      ],
      "source": [
        "# check each company occurances counts in the data\n",
        "counts_df = tweets.groupby(['Stock Name']).size().reset_index(name='counts').sort_values(['counts'], ascending=False)\n",
        "style.use('ggplot')\n",
        "plt.bar(counts_df[\"Stock Name\"].values,counts_df[\"counts\"].values)\n",
        "plt.xticks(fontsize=14, rotation=90)\n",
        "plt.show()"
      ]
    },
    {
      "cell_type": "markdown",
      "source": [
        "## keep only stocks with high number of samples (>1500) # dont"
      ],
      "metadata": {
        "id": "62-We_yxd8f_"
      },
      "id": "62-We_yxd8f_"
    },
    {
      "cell_type": "code",
      "source": [
        "# keep_list = counts_df[counts_df['counts'] > 1500]['Stock Name'].values\n",
        "# keep_list\n",
        "# tweets = tweets[tweets['Stock Name'].isin(keep_list)]\n",
        "\n",
        "tweets['date'] = pd.to_datetime(tweets['date']) \n",
        "tweets['date'] = tweets['date'].apply(lambda x: x.strftime('%Y-%m-%d'))\n",
        "tweets['date'] = pd.to_datetime(tweets['date']) \n",
        "tweets.head()\n",
        "# counts_df"
      ],
      "metadata": {
        "colab": {
          "base_uri": "https://localhost:8080/",
          "height": 206
        },
        "id": "EJx9tPfPcXhW",
        "outputId": "13fe8863-719a-4c69-f1a8-5dfaeb88458f"
      },
      "id": "EJx9tPfPcXhW",
      "execution_count": 8,
      "outputs": [
        {
          "output_type": "execute_result",
          "data": {
            "text/plain": [
              "        date                                              tweet Stock Name  \\\n",
              "0 2022-09-29  Mainstream media has done an amazing job at br...       TSLA   \n",
              "1 2022-09-29  Tesla delivery estimates are at around 364k fr...       TSLA   \n",
              "2 2022-09-29  3/ Even if I include 63.0M unvested RSUs as of...       TSLA   \n",
              "3 2022-09-29  @RealDanODowd @WholeMarsBlog @Tesla Hahaha why...       TSLA   \n",
              "4 2022-09-29  @RealDanODowd @Tesla Stop trying to kill kids,...       TSLA   \n",
              "\n",
              "  Company Name  \n",
              "0  Tesla, Inc.  \n",
              "1  Tesla, Inc.  \n",
              "2  Tesla, Inc.  \n",
              "3  Tesla, Inc.  \n",
              "4  Tesla, Inc.  "
            ],
            "text/html": [
              "\n",
              "  <div id=\"df-de4e2b1a-fb0e-4c84-a755-9916863d829f\">\n",
              "    <div class=\"colab-df-container\">\n",
              "      <div>\n",
              "<style scoped>\n",
              "    .dataframe tbody tr th:only-of-type {\n",
              "        vertical-align: middle;\n",
              "    }\n",
              "\n",
              "    .dataframe tbody tr th {\n",
              "        vertical-align: top;\n",
              "    }\n",
              "\n",
              "    .dataframe thead th {\n",
              "        text-align: right;\n",
              "    }\n",
              "</style>\n",
              "<table border=\"1\" class=\"dataframe\">\n",
              "  <thead>\n",
              "    <tr style=\"text-align: right;\">\n",
              "      <th></th>\n",
              "      <th>date</th>\n",
              "      <th>tweet</th>\n",
              "      <th>Stock Name</th>\n",
              "      <th>Company Name</th>\n",
              "    </tr>\n",
              "  </thead>\n",
              "  <tbody>\n",
              "    <tr>\n",
              "      <th>0</th>\n",
              "      <td>2022-09-29</td>\n",
              "      <td>Mainstream media has done an amazing job at br...</td>\n",
              "      <td>TSLA</td>\n",
              "      <td>Tesla, Inc.</td>\n",
              "    </tr>\n",
              "    <tr>\n",
              "      <th>1</th>\n",
              "      <td>2022-09-29</td>\n",
              "      <td>Tesla delivery estimates are at around 364k fr...</td>\n",
              "      <td>TSLA</td>\n",
              "      <td>Tesla, Inc.</td>\n",
              "    </tr>\n",
              "    <tr>\n",
              "      <th>2</th>\n",
              "      <td>2022-09-29</td>\n",
              "      <td>3/ Even if I include 63.0M unvested RSUs as of...</td>\n",
              "      <td>TSLA</td>\n",
              "      <td>Tesla, Inc.</td>\n",
              "    </tr>\n",
              "    <tr>\n",
              "      <th>3</th>\n",
              "      <td>2022-09-29</td>\n",
              "      <td>@RealDanODowd @WholeMarsBlog @Tesla Hahaha why...</td>\n",
              "      <td>TSLA</td>\n",
              "      <td>Tesla, Inc.</td>\n",
              "    </tr>\n",
              "    <tr>\n",
              "      <th>4</th>\n",
              "      <td>2022-09-29</td>\n",
              "      <td>@RealDanODowd @Tesla Stop trying to kill kids,...</td>\n",
              "      <td>TSLA</td>\n",
              "      <td>Tesla, Inc.</td>\n",
              "    </tr>\n",
              "  </tbody>\n",
              "</table>\n",
              "</div>\n",
              "      <button class=\"colab-df-convert\" onclick=\"convertToInteractive('df-de4e2b1a-fb0e-4c84-a755-9916863d829f')\"\n",
              "              title=\"Convert this dataframe to an interactive table.\"\n",
              "              style=\"display:none;\">\n",
              "        \n",
              "  <svg xmlns=\"http://www.w3.org/2000/svg\" height=\"24px\"viewBox=\"0 0 24 24\"\n",
              "       width=\"24px\">\n",
              "    <path d=\"M0 0h24v24H0V0z\" fill=\"none\"/>\n",
              "    <path d=\"M18.56 5.44l.94 2.06.94-2.06 2.06-.94-2.06-.94-.94-2.06-.94 2.06-2.06.94zm-11 1L8.5 8.5l.94-2.06 2.06-.94-2.06-.94L8.5 2.5l-.94 2.06-2.06.94zm10 10l.94 2.06.94-2.06 2.06-.94-2.06-.94-.94-2.06-.94 2.06-2.06.94z\"/><path d=\"M17.41 7.96l-1.37-1.37c-.4-.4-.92-.59-1.43-.59-.52 0-1.04.2-1.43.59L10.3 9.45l-7.72 7.72c-.78.78-.78 2.05 0 2.83L4 21.41c.39.39.9.59 1.41.59.51 0 1.02-.2 1.41-.59l7.78-7.78 2.81-2.81c.8-.78.8-2.07 0-2.86zM5.41 20L4 18.59l7.72-7.72 1.47 1.35L5.41 20z\"/>\n",
              "  </svg>\n",
              "      </button>\n",
              "      \n",
              "  <style>\n",
              "    .colab-df-container {\n",
              "      display:flex;\n",
              "      flex-wrap:wrap;\n",
              "      gap: 12px;\n",
              "    }\n",
              "\n",
              "    .colab-df-convert {\n",
              "      background-color: #E8F0FE;\n",
              "      border: none;\n",
              "      border-radius: 50%;\n",
              "      cursor: pointer;\n",
              "      display: none;\n",
              "      fill: #1967D2;\n",
              "      height: 32px;\n",
              "      padding: 0 0 0 0;\n",
              "      width: 32px;\n",
              "    }\n",
              "\n",
              "    .colab-df-convert:hover {\n",
              "      background-color: #E2EBFA;\n",
              "      box-shadow: 0px 1px 2px rgba(60, 64, 67, 0.3), 0px 1px 3px 1px rgba(60, 64, 67, 0.15);\n",
              "      fill: #174EA6;\n",
              "    }\n",
              "\n",
              "    [theme=dark] .colab-df-convert {\n",
              "      background-color: #3B4455;\n",
              "      fill: #D2E3FC;\n",
              "    }\n",
              "\n",
              "    [theme=dark] .colab-df-convert:hover {\n",
              "      background-color: #434B5C;\n",
              "      box-shadow: 0px 1px 3px 1px rgba(0, 0, 0, 0.15);\n",
              "      filter: drop-shadow(0px 1px 2px rgba(0, 0, 0, 0.3));\n",
              "      fill: #FFFFFF;\n",
              "    }\n",
              "  </style>\n",
              "\n",
              "      <script>\n",
              "        const buttonEl =\n",
              "          document.querySelector('#df-de4e2b1a-fb0e-4c84-a755-9916863d829f button.colab-df-convert');\n",
              "        buttonEl.style.display =\n",
              "          google.colab.kernel.accessAllowed ? 'block' : 'none';\n",
              "\n",
              "        async function convertToInteractive(key) {\n",
              "          const element = document.querySelector('#df-de4e2b1a-fb0e-4c84-a755-9916863d829f');\n",
              "          const dataTable =\n",
              "            await google.colab.kernel.invokeFunction('convertToInteractive',\n",
              "                                                     [key], {});\n",
              "          if (!dataTable) return;\n",
              "\n",
              "          const docLinkHtml = 'Like what you see? Visit the ' +\n",
              "            '<a target=\"_blank\" href=https://colab.research.google.com/notebooks/data_table.ipynb>data table notebook</a>'\n",
              "            + ' to learn more about interactive tables.';\n",
              "          element.innerHTML = '';\n",
              "          dataTable['output_type'] = 'display_data';\n",
              "          await google.colab.output.renderOutput(dataTable, element);\n",
              "          const docLink = document.createElement('div');\n",
              "          docLink.innerHTML = docLinkHtml;\n",
              "          element.appendChild(docLink);\n",
              "        }\n",
              "      </script>\n",
              "    </div>\n",
              "  </div>\n",
              "  "
            ]
          },
          "metadata": {},
          "execution_count": 8
        }
      ]
    },
    {
      "cell_type": "code",
      "source": [
        "stocks = pd.read_csv('stock_yfinance_data.csv')\n",
        "# stocks = stocks[stocks['Stock Name'].isin(keep_list)]\n",
        "stocks['Date'] = pd.to_datetime(stocks['Date'])\n",
        "stocks.head()"
      ],
      "metadata": {
        "colab": {
          "base_uri": "https://localhost:8080/",
          "height": 206
        },
        "id": "86JmraJ9eGa2",
        "outputId": "21d87dfe-f147-43ba-e320-e942ef62750c"
      },
      "id": "86JmraJ9eGa2",
      "execution_count": 9,
      "outputs": [
        {
          "output_type": "execute_result",
          "data": {
            "text/plain": [
              "        Date        Open        High         Low       Close   Adj Close  \\\n",
              "0 2021-09-30  260.333344  263.043335  258.333344  258.493347  258.493347   \n",
              "1 2021-10-01  259.466675  260.260010  254.529999  258.406677  258.406677   \n",
              "2 2021-10-04  265.500000  268.989990  258.706665  260.510010  260.510010   \n",
              "3 2021-10-05  261.600006  265.769989  258.066681  260.196655  260.196655   \n",
              "4 2021-10-06  258.733337  262.220001  257.739990  260.916656  260.916656   \n",
              "\n",
              "     Volume Stock Name  \n",
              "0  53868000       TSLA  \n",
              "1  51094200       TSLA  \n",
              "2  91449900       TSLA  \n",
              "3  55297800       TSLA  \n",
              "4  43898400       TSLA  "
            ],
            "text/html": [
              "\n",
              "  <div id=\"df-c4d953ab-7c93-4bdc-b406-c5db36361872\">\n",
              "    <div class=\"colab-df-container\">\n",
              "      <div>\n",
              "<style scoped>\n",
              "    .dataframe tbody tr th:only-of-type {\n",
              "        vertical-align: middle;\n",
              "    }\n",
              "\n",
              "    .dataframe tbody tr th {\n",
              "        vertical-align: top;\n",
              "    }\n",
              "\n",
              "    .dataframe thead th {\n",
              "        text-align: right;\n",
              "    }\n",
              "</style>\n",
              "<table border=\"1\" class=\"dataframe\">\n",
              "  <thead>\n",
              "    <tr style=\"text-align: right;\">\n",
              "      <th></th>\n",
              "      <th>Date</th>\n",
              "      <th>Open</th>\n",
              "      <th>High</th>\n",
              "      <th>Low</th>\n",
              "      <th>Close</th>\n",
              "      <th>Adj Close</th>\n",
              "      <th>Volume</th>\n",
              "      <th>Stock Name</th>\n",
              "    </tr>\n",
              "  </thead>\n",
              "  <tbody>\n",
              "    <tr>\n",
              "      <th>0</th>\n",
              "      <td>2021-09-30</td>\n",
              "      <td>260.333344</td>\n",
              "      <td>263.043335</td>\n",
              "      <td>258.333344</td>\n",
              "      <td>258.493347</td>\n",
              "      <td>258.493347</td>\n",
              "      <td>53868000</td>\n",
              "      <td>TSLA</td>\n",
              "    </tr>\n",
              "    <tr>\n",
              "      <th>1</th>\n",
              "      <td>2021-10-01</td>\n",
              "      <td>259.466675</td>\n",
              "      <td>260.260010</td>\n",
              "      <td>254.529999</td>\n",
              "      <td>258.406677</td>\n",
              "      <td>258.406677</td>\n",
              "      <td>51094200</td>\n",
              "      <td>TSLA</td>\n",
              "    </tr>\n",
              "    <tr>\n",
              "      <th>2</th>\n",
              "      <td>2021-10-04</td>\n",
              "      <td>265.500000</td>\n",
              "      <td>268.989990</td>\n",
              "      <td>258.706665</td>\n",
              "      <td>260.510010</td>\n",
              "      <td>260.510010</td>\n",
              "      <td>91449900</td>\n",
              "      <td>TSLA</td>\n",
              "    </tr>\n",
              "    <tr>\n",
              "      <th>3</th>\n",
              "      <td>2021-10-05</td>\n",
              "      <td>261.600006</td>\n",
              "      <td>265.769989</td>\n",
              "      <td>258.066681</td>\n",
              "      <td>260.196655</td>\n",
              "      <td>260.196655</td>\n",
              "      <td>55297800</td>\n",
              "      <td>TSLA</td>\n",
              "    </tr>\n",
              "    <tr>\n",
              "      <th>4</th>\n",
              "      <td>2021-10-06</td>\n",
              "      <td>258.733337</td>\n",
              "      <td>262.220001</td>\n",
              "      <td>257.739990</td>\n",
              "      <td>260.916656</td>\n",
              "      <td>260.916656</td>\n",
              "      <td>43898400</td>\n",
              "      <td>TSLA</td>\n",
              "    </tr>\n",
              "  </tbody>\n",
              "</table>\n",
              "</div>\n",
              "      <button class=\"colab-df-convert\" onclick=\"convertToInteractive('df-c4d953ab-7c93-4bdc-b406-c5db36361872')\"\n",
              "              title=\"Convert this dataframe to an interactive table.\"\n",
              "              style=\"display:none;\">\n",
              "        \n",
              "  <svg xmlns=\"http://www.w3.org/2000/svg\" height=\"24px\"viewBox=\"0 0 24 24\"\n",
              "       width=\"24px\">\n",
              "    <path d=\"M0 0h24v24H0V0z\" fill=\"none\"/>\n",
              "    <path d=\"M18.56 5.44l.94 2.06.94-2.06 2.06-.94-2.06-.94-.94-2.06-.94 2.06-2.06.94zm-11 1L8.5 8.5l.94-2.06 2.06-.94-2.06-.94L8.5 2.5l-.94 2.06-2.06.94zm10 10l.94 2.06.94-2.06 2.06-.94-2.06-.94-.94-2.06-.94 2.06-2.06.94z\"/><path d=\"M17.41 7.96l-1.37-1.37c-.4-.4-.92-.59-1.43-.59-.52 0-1.04.2-1.43.59L10.3 9.45l-7.72 7.72c-.78.78-.78 2.05 0 2.83L4 21.41c.39.39.9.59 1.41.59.51 0 1.02-.2 1.41-.59l7.78-7.78 2.81-2.81c.8-.78.8-2.07 0-2.86zM5.41 20L4 18.59l7.72-7.72 1.47 1.35L5.41 20z\"/>\n",
              "  </svg>\n",
              "      </button>\n",
              "      \n",
              "  <style>\n",
              "    .colab-df-container {\n",
              "      display:flex;\n",
              "      flex-wrap:wrap;\n",
              "      gap: 12px;\n",
              "    }\n",
              "\n",
              "    .colab-df-convert {\n",
              "      background-color: #E8F0FE;\n",
              "      border: none;\n",
              "      border-radius: 50%;\n",
              "      cursor: pointer;\n",
              "      display: none;\n",
              "      fill: #1967D2;\n",
              "      height: 32px;\n",
              "      padding: 0 0 0 0;\n",
              "      width: 32px;\n",
              "    }\n",
              "\n",
              "    .colab-df-convert:hover {\n",
              "      background-color: #E2EBFA;\n",
              "      box-shadow: 0px 1px 2px rgba(60, 64, 67, 0.3), 0px 1px 3px 1px rgba(60, 64, 67, 0.15);\n",
              "      fill: #174EA6;\n",
              "    }\n",
              "\n",
              "    [theme=dark] .colab-df-convert {\n",
              "      background-color: #3B4455;\n",
              "      fill: #D2E3FC;\n",
              "    }\n",
              "\n",
              "    [theme=dark] .colab-df-convert:hover {\n",
              "      background-color: #434B5C;\n",
              "      box-shadow: 0px 1px 3px 1px rgba(0, 0, 0, 0.15);\n",
              "      filter: drop-shadow(0px 1px 2px rgba(0, 0, 0, 0.3));\n",
              "      fill: #FFFFFF;\n",
              "    }\n",
              "  </style>\n",
              "\n",
              "      <script>\n",
              "        const buttonEl =\n",
              "          document.querySelector('#df-c4d953ab-7c93-4bdc-b406-c5db36361872 button.colab-df-convert');\n",
              "        buttonEl.style.display =\n",
              "          google.colab.kernel.accessAllowed ? 'block' : 'none';\n",
              "\n",
              "        async function convertToInteractive(key) {\n",
              "          const element = document.querySelector('#df-c4d953ab-7c93-4bdc-b406-c5db36361872');\n",
              "          const dataTable =\n",
              "            await google.colab.kernel.invokeFunction('convertToInteractive',\n",
              "                                                     [key], {});\n",
              "          if (!dataTable) return;\n",
              "\n",
              "          const docLinkHtml = 'Like what you see? Visit the ' +\n",
              "            '<a target=\"_blank\" href=https://colab.research.google.com/notebooks/data_table.ipynb>data table notebook</a>'\n",
              "            + ' to learn more about interactive tables.';\n",
              "          element.innerHTML = '';\n",
              "          dataTable['output_type'] = 'display_data';\n",
              "          await google.colab.output.renderOutput(dataTable, element);\n",
              "          const docLink = document.createElement('div');\n",
              "          docLink.innerHTML = docLinkHtml;\n",
              "          element.appendChild(docLink);\n",
              "        }\n",
              "      </script>\n",
              "    </div>\n",
              "  </div>\n",
              "  "
            ]
          },
          "metadata": {},
          "execution_count": 9
        }
      ]
    },
    {
      "cell_type": "markdown",
      "source": [
        "# Work with tesla data only"
      ],
      "metadata": {
        "id": "TdrbyYS8qtWN"
      },
      "id": "TdrbyYS8qtWN"
    },
    {
      "cell_type": "code",
      "source": [
        "tweets = tweets[tweets['Stock Name'] == 'TSLA']\n",
        "stocks = stocks[stocks['Stock Name'] == 'TSLA']\n",
        "\n",
        "tweets.shape, stocks.shape"
      ],
      "metadata": {
        "id": "hdOwhHETiKJN",
        "colab": {
          "base_uri": "https://localhost:8080/"
        },
        "outputId": "492086d4-b502-49ba-bb96-3f7f74c1567c"
      },
      "id": "hdOwhHETiKJN",
      "execution_count": 10,
      "outputs": [
        {
          "output_type": "execute_result",
          "data": {
            "text/plain": [
              "((37422, 4), (252, 8))"
            ]
          },
          "metadata": {},
          "execution_count": 10
        }
      ]
    },
    {
      "cell_type": "markdown",
      "source": [
        "## Classify tweets"
      ],
      "metadata": {
        "id": "Ju4sQm4AsPUC"
      },
      "id": "Ju4sQm4AsPUC"
    },
    {
      "cell_type": "code",
      "source": [
        "clf = SentimentIntensityAnalyzer()\n",
        "tweets['compund'] = tweets['tweet'].apply(lambda e: clf.polarity_scores(e)['compound'])"
      ],
      "metadata": {
        "colab": {
          "base_uri": "https://localhost:8080/"
        },
        "id": "p962WrEormq1",
        "outputId": "65a1f229-dd84-4b24-df31-c53a5a9c27d4"
      },
      "id": "p962WrEormq1",
      "execution_count": 11,
      "outputs": [
        {
          "output_type": "stream",
          "name": "stderr",
          "text": [
            "<ipython-input-11-0e53eea50a5e>:2: SettingWithCopyWarning: \n",
            "A value is trying to be set on a copy of a slice from a DataFrame.\n",
            "Try using .loc[row_indexer,col_indexer] = value instead\n",
            "\n",
            "See the caveats in the documentation: https://pandas.pydata.org/pandas-docs/stable/user_guide/indexing.html#returning-a-view-versus-a-copy\n",
            "  tweets['compund'] = tweets['tweet'].apply(lambda e: clf.polarity_scores(e)['compound'])\n"
          ]
        }
      ]
    },
    {
      "cell_type": "markdown",
      "source": [
        "## Show Tesla close values during the given data"
      ],
      "metadata": {
        "id": "juDd7CfdoGX3"
      },
      "id": "juDd7CfdoGX3"
    },
    {
      "cell_type": "code",
      "source": [
        "import seaborn as sns\n",
        "sns.set_theme(style=\"darkgrid\")\n",
        "l = sns.lineplot(x=\"Date\", y=\"Close\",\n",
        "             data=stocks)\n",
        "l.set(title='Tesla close values from 09.2021 to 09-2022')\n",
        "l\n",
        "# fig, ax = plt.subplots()\n",
        "# ax.plot(stocks['Date'], stocks['Close'])\n",
        "# ax.set_title('Tesla close values from 09.2021 to 09-2022')\n",
        "# ax.scatter([x for x in range(10)], [y for y in range(10)])"
      ],
      "metadata": {
        "colab": {
          "base_uri": "https://localhost:8080/",
          "height": 318
        },
        "id": "lKwVOhPUvG3S",
        "outputId": "5a375fdf-5aa3-4f60-a6ef-9a51c0a239ef"
      },
      "id": "lKwVOhPUvG3S",
      "execution_count": 12,
      "outputs": [
        {
          "output_type": "execute_result",
          "data": {
            "text/plain": [
              "<matplotlib.axes._subplots.AxesSubplot at 0x7f9ceb114820>"
            ]
          },
          "metadata": {},
          "execution_count": 12
        },
        {
          "output_type": "display_data",
          "data": {
            "text/plain": [
              "<Figure size 432x288 with 1 Axes>"
            ],
            "image/png": "[encoded data removed]"
          },
          "metadata": {}
        }
      ]
    },
    {
      "cell_type": "markdown",
      "source": [
        "## Assign each sampple from tweets to the closes date in stocks dates and calculate the mean compound value for each date group(there are 252 date groups)"
      ],
      "metadata": {
        "id": "IMI0BWzuoQ6g"
      },
      "id": "IMI0BWzuoQ6g"
    },
    {
      "cell_type": "code",
      "source": [
        "# tweets.head()\n",
        "\n",
        "stocks_dates = stocks['Date']\n",
        "def get_distance(d_time):\n",
        "    return abs(d_time.days)\n",
        "\n",
        "def get_closest(e):\n",
        "    # dist = np.min(stocks_dates.apply(lambda x: abs((e-x).days)))\n",
        "    # return stocks_dates[stocks_dates==dist]\n",
        "\n",
        "    return min(stocks_dates, key= lambda x: get_distance(x-e))\n",
        "\n",
        "tweets['closes_date'] = tweets['date'].apply(get_closest)\n",
        "\n",
        "compound_means = tweets.groupby(by=['closes_date']).mean().reset_index()# col1= date, col2=compund_mean\n",
        "compound_means.head()\n",
        "# (pd.Timestamp('2022-09-30') - pd.Timestamp('2022-09-29')) > (pd.Timestamp('2022-09-30') - pd.Timestamp('2022-09-30'))"
      ],
      "metadata": {
        "id": "hGsfzpDPzJBM"
      },
      "id": "hGsfzpDPzJBM",
      "execution_count": null,
      "outputs": []
    },
    {
      "cell_type": "code",
      "source": [
        "compound_means.head()"
      ],
      "metadata": {
        "colab": {
          "base_uri": "https://localhost:8080/",
          "height": 206
        },
        "id": "zTy1MHSEaG2N",
        "outputId": "622f24e1-4e8e-4d64-8a1f-4903bb57da1e"
      },
      "id": "zTy1MHSEaG2N",
      "execution_count": 38,
      "outputs": [
        {
          "output_type": "execute_result",
          "data": {
            "text/plain": [
              "  closes_date   compund\n",
              "0  2021-09-30  0.231552\n",
              "1  2021-10-01  0.254797\n",
              "2  2021-10-04  0.181539\n",
              "3  2021-10-05  0.069445\n",
              "4  2021-10-06  0.199940"
            ],
            "text/html": [
              "\n",
              "  <div id=\"df-f8accdeb-1bfe-4f77-86cb-9d2dae1756c5\">\n",
              "    <div class=\"colab-df-container\">\n",
              "      <div>\n",
              "<style scoped>\n",
              "    .dataframe tbody tr th:only-of-type {\n",
              "        vertical-align: middle;\n",
              "    }\n",
              "\n",
              "    .dataframe tbody tr th {\n",
              "        vertical-align: top;\n",
              "    }\n",
              "\n",
              "    .dataframe thead th {\n",
              "        text-align: right;\n",
              "    }\n",
              "</style>\n",
              "<table border=\"1\" class=\"dataframe\">\n",
              "  <thead>\n",
              "    <tr style=\"text-align: right;\">\n",
              "      <th></th>\n",
              "      <th>closes_date</th>\n",
              "      <th>compund</th>\n",
              "    </tr>\n",
              "  </thead>\n",
              "  <tbody>\n",
              "    <tr>\n",
              "      <th>0</th>\n",
              "      <td>2021-09-30</td>\n",
              "      <td>0.231552</td>\n",
              "    </tr>\n",
              "    <tr>\n",
              "      <th>1</th>\n",
              "      <td>2021-10-01</td>\n",
              "      <td>0.254797</td>\n",
              "    </tr>\n",
              "    <tr>\n",
              "      <th>2</th>\n",
              "      <td>2021-10-04</td>\n",
              "      <td>0.181539</td>\n",
              "    </tr>\n",
              "    <tr>\n",
              "      <th>3</th>\n",
              "      <td>2021-10-05</td>\n",
              "      <td>0.069445</td>\n",
              "    </tr>\n",
              "    <tr>\n",
              "      <th>4</th>\n",
              "      <td>2021-10-06</td>\n",
              "      <td>0.199940</td>\n",
              "    </tr>\n",
              "  </tbody>\n",
              "</table>\n",
              "</div>\n",
              "      <button class=\"colab-df-convert\" onclick=\"convertToInteractive('df-f8accdeb-1bfe-4f77-86cb-9d2dae1756c5')\"\n",
              "              title=\"Convert this dataframe to an interactive table.\"\n",
              "              style=\"display:none;\">\n",
              "        \n",
              "  <svg xmlns=\"http://www.w3.org/2000/svg\" height=\"24px\"viewBox=\"0 0 24 24\"\n",
              "       width=\"24px\">\n",
              "    <path d=\"M0 0h24v24H0V0z\" fill=\"none\"/>\n",
              "    <path d=\"M18.56 5.44l.94 2.06.94-2.06 2.06-.94-2.06-.94-.94-2.06-.94 2.06-2.06.94zm-11 1L8.5 8.5l.94-2.06 2.06-.94-2.06-.94L8.5 2.5l-.94 2.06-2.06.94zm10 10l.94 2.06.94-2.06 2.06-.94-2.06-.94-.94-2.06-.94 2.06-2.06.94z\"/><path d=\"M17.41 7.96l-1.37-1.37c-.4-.4-.92-.59-1.43-.59-.52 0-1.04.2-1.43.59L10.3 9.45l-7.72 7.72c-.78.78-.78 2.05 0 2.83L4 21.41c.39.39.9.59 1.41.59.51 0 1.02-.2 1.41-.59l7.78-7.78 2.81-2.81c.8-.78.8-2.07 0-2.86zM5.41 20L4 18.59l7.72-7.72 1.47 1.35L5.41 20z\"/>\n",
              "  </svg>\n",
              "      </button>\n",
              "      \n",
              "  <style>\n",
              "    .colab-df-container {\n",
              "      display:flex;\n",
              "      flex-wrap:wrap;\n",
              "      gap: 12px;\n",
              "    }\n",
              "\n",
              "    .colab-df-convert {\n",
              "      background-color: #E8F0FE;\n",
              "      border: none;\n",
              "      border-radius: 50%;\n",
              "      cursor: pointer;\n",
              "      display: none;\n",
              "      fill: #1967D2;\n",
              "      height: 32px;\n",
              "      padding: 0 0 0 0;\n",
              "      width: 32px;\n",
              "    }\n",
              "\n",
              "    .colab-df-convert:hover {\n",
              "      background-color: #E2EBFA;\n",
              "      box-shadow: 0px 1px 2px rgba(60, 64, 67, 0.3), 0px 1px 3px 1px rgba(60, 64, 67, 0.15);\n",
              "      fill: #174EA6;\n",
              "    }\n",
              "\n",
              "    [theme=dark] .colab-df-convert {\n",
              "      background-color: #3B4455;\n",
              "      fill: #D2E3FC;\n",
              "    }\n",
              "\n",
              "    [theme=dark] .colab-df-convert:hover {\n",
              "      background-color: #434B5C;\n",
              "      box-shadow: 0px 1px 3px 1px rgba(0, 0, 0, 0.15);\n",
              "      filter: drop-shadow(0px 1px 2px rgba(0, 0, 0, 0.3));\n",
              "      fill: #FFFFFF;\n",
              "    }\n",
              "  </style>\n",
              "\n",
              "      <script>\n",
              "        const buttonEl =\n",
              "          document.querySelector('#df-f8accdeb-1bfe-4f77-86cb-9d2dae1756c5 button.colab-df-convert');\n",
              "        buttonEl.style.display =\n",
              "          google.colab.kernel.accessAllowed ? 'block' : 'none';\n",
              "\n",
              "        async function convertToInteractive(key) {\n",
              "          const element = document.querySelector('#df-f8accdeb-1bfe-4f77-86cb-9d2dae1756c5');\n",
              "          const dataTable =\n",
              "            await google.colab.kernel.invokeFunction('convertToInteractive',\n",
              "                                                     [key], {});\n",
              "          if (!dataTable) return;\n",
              "\n",
              "          const docLinkHtml = 'Like what you see? Visit the ' +\n",
              "            '<a target=\"_blank\" href=https://colab.research.google.com/notebooks/data_table.ipynb>data table notebook</a>'\n",
              "            + ' to learn more about interactive tables.';\n",
              "          element.innerHTML = '';\n",
              "          dataTable['output_type'] = 'display_data';\n",
              "          await google.colab.output.renderOutput(dataTable, element);\n",
              "          const docLink = document.createElement('div');\n",
              "          docLink.innerHTML = docLinkHtml;\n",
              "          element.appendChild(docLink);\n",
              "        }\n",
              "      </script>\n",
              "    </div>\n",
              "  </div>\n",
              "  "
            ]
          },
          "metadata": {},
          "execution_count": 38
        }
      ]
    },
    {
      "cell_type": "markdown",
      "source": [
        "## Merge the two sets, such that each date from stocks dataset get the relevant compund mean of its group as a new column. And then save the result in stocks_with_emotion.csv"
      ],
      "metadata": {
        "id": "HKZOvGGRoseV"
      },
      "id": "HKZOvGGRoseV"
    },
    {
      "cell_type": "code",
      "source": [
        "# (pd.Timestamp('2022-09-10') - pd.Timestamp('2026-09-15')).days\n",
        "# compound_means = tweets.groupby(by=['closes_date']).mean().reset_index()\n",
        "# compound_means.info()\n",
        "merged_sets = stocks.merge(\n",
        "    compound_means,\n",
        "    how = 'inner',\n",
        "    left_on = 'Date',\n",
        "    right_on = 'closes_date',\n",
        ")\n",
        "\n",
        "merged_sets.to_csv('stocks_with_emotion.csv')"
      ],
      "metadata": {
        "id": "ppzXQqk54UYs"
      },
      "id": "ppzXQqk54UYs",
      "execution_count": 49,
      "outputs": []
    },
    {
      "cell_type": "markdown",
      "id": "hundred-schema",
      "metadata": {
        "id": "hundred-schema"
      },
      "source": [
        "# plan\n",
        "    1. train binary sentiment classification model and get a good accuracy.\n",
        "    2. apply classification on the tweets dataset.\n",
        "    3. do some analysis on big companies by number of positive and negative classification results.\n",
        "    4. use the classification results to check correlation between tweets sentiment on a company and its stocks values in the same period.\n"
      ]
    }
  ],
  "metadata": {
    "kernelspec": {
      "display_name": "Python 3",
      "language": "python",
      "name": "python3"
    },
    "language_info": {
      "codemirror_mode": {
        "name": "ipython",
        "version": 3
      },
      "file_extension": ".py",
      "mimetype": "text/x-python",
      "name": "python",
      "nbconvert_exporter": "python",
      "pygments_lexer": "ipython3",
      "version": "3.9.2"
    },
    "colab": {
      "provenance": []
    }
  },
  "nbformat": 4,
  "nbformat_minor": 5
}