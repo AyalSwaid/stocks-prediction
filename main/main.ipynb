{
 "cells": [
  {
   "cell_type": "markdown",
   "id": "rapid-breach",
   "metadata": {},
   "source": [
    "# stocks X sentiment analysis dataset\n",
    "this notebook idea is to do sentiment analysis about socks related tweets and check the correlation between \n",
    "these tweets and the actual stocks prices, and to check if we can predict stocks changes by the tweets\n",
    "\n"
   ]
  },
  {
   "cell_type": "code",
   "execution_count": 11,
   "id": "united-harbor",
   "metadata": {},
   "outputs": [
    {
     "name": "stdout",
     "output_type": "stream",
     "text": [
      "Downloading stock-tweets-for-sentiment-analysis-and-prediction.zip to C:\\Users\\ayals\\OneDrive\\שולחן העבודה\\stocks_data\n",
      "\n"
     ]
    },
    {
     "name": "stderr",
     "output_type": "stream",
     "text": [
      "\n",
      "  0%|          | 0.00/6.59M [00:00<?, ?B/s]\n",
      " 15%|█▌        | 1.00M/6.59M [00:01<00:05, 979kB/s]\n",
      " 30%|███       | 2.00M/6.59M [00:01<00:03, 1.41MB/s]\n",
      " 45%|████▌     | 3.00M/6.59M [00:02<00:02, 1.59MB/s]\n",
      " 61%|██████    | 4.00M/6.59M [00:02<00:01, 1.52MB/s]\n",
      " 76%|███████▌  | 5.00M/6.59M [00:03<00:01, 1.59MB/s]\n",
      " 91%|█████████ | 6.00M/6.59M [00:04<00:00, 1.61MB/s]\n",
      "100%|██████████| 6.59M/6.59M [00:04<00:00, 1.66MB/s]\n",
      "100%|██████████| 6.59M/6.59M [00:04<00:00, 1.55MB/s]\n"
     ]
    }
   ],
   "source": [
    "# !pip install kaggle\n",
    "# before using kaggle commands put kaggle.json token file in user directory\n",
    "import zipfile\n",
    "!kaggle datasets download -d equinxx/stock-tweets-for-sentiment-analysis-and-prediction\n",
    "\n",
    "z= zipfile.ZipFile('stock-tweets-for-sentiment-analysis-and-prediction.zip')\n",
    "z.extractall()"
   ]
  },
  {
   "cell_type": "markdown",
   "id": "italic-pride",
   "metadata": {},
   "source": [
    "## imports"
   ]
  },
  {
   "cell_type": "code",
   "execution_count": 78,
   "id": "durable-furniture",
   "metadata": {},
   "outputs": [],
   "source": [
    "import pandas as pd\n",
    "import numpy as np\n",
    "import matplotlib.pyplot as plt\n",
    "from matplotlib import style"
   ]
  },
  {
   "cell_type": "code",
   "execution_count": 36,
   "id": "logical-grass",
   "metadata": {},
   "outputs": [
    {
     "data": {
      "text/html": [
       "<div>\n",
       "<style scoped>\n",
       "    .dataframe tbody tr th:only-of-type {\n",
       "        vertical-align: middle;\n",
       "    }\n",
       "\n",
       "    .dataframe tbody tr th {\n",
       "        vertical-align: top;\n",
       "    }\n",
       "\n",
       "    .dataframe thead th {\n",
       "        text-align: right;\n",
       "    }\n",
       "</style>\n",
       "<table border=\"1\" class=\"dataframe\">\n",
       "  <thead>\n",
       "    <tr style=\"text-align: right;\">\n",
       "      <th></th>\n",
       "      <th>date</th>\n",
       "      <th>tweet</th>\n",
       "      <th>Stock Name</th>\n",
       "      <th>Company Name</th>\n",
       "    </tr>\n",
       "  </thead>\n",
       "  <tbody>\n",
       "    <tr>\n",
       "      <th>0</th>\n",
       "      <td>2022-09-29 23:41:16+00:00</td>\n",
       "      <td>Mainstream media has done an amazing job at br...</td>\n",
       "      <td>TSLA</td>\n",
       "      <td>Tesla, Inc.</td>\n",
       "    </tr>\n",
       "    <tr>\n",
       "      <th>1</th>\n",
       "      <td>2022-09-29 23:24:43+00:00</td>\n",
       "      <td>Tesla delivery estimates are at around 364k fr...</td>\n",
       "      <td>TSLA</td>\n",
       "      <td>Tesla, Inc.</td>\n",
       "    </tr>\n",
       "    <tr>\n",
       "      <th>2</th>\n",
       "      <td>2022-09-29 23:18:08+00:00</td>\n",
       "      <td>3/ Even if I include 63.0M unvested RSUs as of...</td>\n",
       "      <td>TSLA</td>\n",
       "      <td>Tesla, Inc.</td>\n",
       "    </tr>\n",
       "    <tr>\n",
       "      <th>3</th>\n",
       "      <td>2022-09-29 22:40:07+00:00</td>\n",
       "      <td>@RealDanODowd @WholeMarsBlog @Tesla Hahaha why...</td>\n",
       "      <td>TSLA</td>\n",
       "      <td>Tesla, Inc.</td>\n",
       "    </tr>\n",
       "    <tr>\n",
       "      <th>4</th>\n",
       "      <td>2022-09-29 22:27:05+00:00</td>\n",
       "      <td>@RealDanODowd @Tesla Stop trying to kill kids,...</td>\n",
       "      <td>TSLA</td>\n",
       "      <td>Tesla, Inc.</td>\n",
       "    </tr>\n",
       "    <tr>\n",
       "      <th>...</th>\n",
       "      <td>...</td>\n",
       "      <td>...</td>\n",
       "      <td>...</td>\n",
       "      <td>...</td>\n",
       "    </tr>\n",
       "    <tr>\n",
       "      <th>80788</th>\n",
       "      <td>2021-10-07 17:11:57+00:00</td>\n",
       "      <td>Some of the fastest growing tech stocks on the...</td>\n",
       "      <td>XPEV</td>\n",
       "      <td>XPeng Inc.</td>\n",
       "    </tr>\n",
       "    <tr>\n",
       "      <th>80789</th>\n",
       "      <td>2021-10-04 17:05:59+00:00</td>\n",
       "      <td>With earnings on the horizon, here is a quick ...</td>\n",
       "      <td>XPEV</td>\n",
       "      <td>XPeng Inc.</td>\n",
       "    </tr>\n",
       "    <tr>\n",
       "      <th>80790</th>\n",
       "      <td>2021-10-01 04:43:41+00:00</td>\n",
       "      <td>Our record delivery results are a testimony of...</td>\n",
       "      <td>XPEV</td>\n",
       "      <td>XPeng Inc.</td>\n",
       "    </tr>\n",
       "    <tr>\n",
       "      <th>80791</th>\n",
       "      <td>2021-10-01 00:03:32+00:00</td>\n",
       "      <td>We delivered 10,412 Smart EVs in Sep 2021, rea...</td>\n",
       "      <td>XPEV</td>\n",
       "      <td>XPeng Inc.</td>\n",
       "    </tr>\n",
       "    <tr>\n",
       "      <th>80792</th>\n",
       "      <td>2021-09-30 10:22:52+00:00</td>\n",
       "      <td>Why can XPeng P5 deliver outstanding performan...</td>\n",
       "      <td>XPEV</td>\n",
       "      <td>XPeng Inc.</td>\n",
       "    </tr>\n",
       "  </tbody>\n",
       "</table>\n",
       "<p>80793 rows × 4 columns</p>\n",
       "</div>"
      ],
      "text/plain": [
       "                            date  \\\n",
       "0      2022-09-29 23:41:16+00:00   \n",
       "1      2022-09-29 23:24:43+00:00   \n",
       "2      2022-09-29 23:18:08+00:00   \n",
       "3      2022-09-29 22:40:07+00:00   \n",
       "4      2022-09-29 22:27:05+00:00   \n",
       "...                          ...   \n",
       "80788  2021-10-07 17:11:57+00:00   \n",
       "80789  2021-10-04 17:05:59+00:00   \n",
       "80790  2021-10-01 04:43:41+00:00   \n",
       "80791  2021-10-01 00:03:32+00:00   \n",
       "80792  2021-09-30 10:22:52+00:00   \n",
       "\n",
       "                                                   tweet Stock Name  \\\n",
       "0      Mainstream media has done an amazing job at br...       TSLA   \n",
       "1      Tesla delivery estimates are at around 364k fr...       TSLA   \n",
       "2      3/ Even if I include 63.0M unvested RSUs as of...       TSLA   \n",
       "3      @RealDanODowd @WholeMarsBlog @Tesla Hahaha why...       TSLA   \n",
       "4      @RealDanODowd @Tesla Stop trying to kill kids,...       TSLA   \n",
       "...                                                  ...        ...   \n",
       "80788  Some of the fastest growing tech stocks on the...       XPEV   \n",
       "80789  With earnings on the horizon, here is a quick ...       XPEV   \n",
       "80790  Our record delivery results are a testimony of...       XPEV   \n",
       "80791  We delivered 10,412 Smart EVs in Sep 2021, rea...       XPEV   \n",
       "80792  Why can XPeng P5 deliver outstanding performan...       XPEV   \n",
       "\n",
       "      Company Name  \n",
       "0      Tesla, Inc.  \n",
       "1      Tesla, Inc.  \n",
       "2      Tesla, Inc.  \n",
       "3      Tesla, Inc.  \n",
       "4      Tesla, Inc.  \n",
       "...            ...  \n",
       "80788   XPeng Inc.  \n",
       "80789   XPeng Inc.  \n",
       "80790   XPeng Inc.  \n",
       "80791   XPeng Inc.  \n",
       "80792   XPeng Inc.  \n",
       "\n",
       "[80793 rows x 4 columns]"
      ]
     },
     "execution_count": 36,
     "metadata": {},
     "output_type": "execute_result"
    }
   ],
   "source": [
    "tweets = pd.read_csv('stock_tweets.csv')\n",
    "\n",
    "# changing col names\n",
    "tweets.rename(columns = {'Date':'date','Tweet':'tweet'}, inplace=True)\n",
    "\n",
    "tweets"
   ]
  },
  {
   "cell_type": "code",
   "execution_count": 37,
   "id": "nutritional-missile",
   "metadata": {},
   "outputs": [
    {
     "name": "stdout",
     "output_type": "stream",
     "text": [
      "<class 'pandas.core.frame.DataFrame'>\n",
      "RangeIndex: 80793 entries, 0 to 80792\n",
      "Data columns (total 4 columns):\n",
      " #   Column        Non-Null Count  Dtype \n",
      "---  ------        --------------  ----- \n",
      " 0   date          80793 non-null  object\n",
      " 1   tweet         80793 non-null  object\n",
      " 2   Stock Name    80793 non-null  object\n",
      " 3   Company Name  80793 non-null  object\n",
      "dtypes: object(4)\n",
      "memory usage: 2.5+ MB\n"
     ]
    }
   ],
   "source": [
    "tweets.info()"
   ]
  },
  {
   "cell_type": "code",
   "execution_count": 32,
   "id": "amino-airfare",
   "metadata": {},
   "outputs": [
    {
     "data": {
      "text/plain": [
       "(array(['TSLA', 'MSFT', 'PG', 'META', 'AMZN', 'GOOG', 'AMD', 'AAPL',\n",
       "        'NFLX', 'TSM', 'KO', 'F', 'COST', 'DIS', 'VZ', 'CRM', 'INTC', 'BA',\n",
       "        'BX', 'NOC', 'PYPL', 'ENPH', 'NIO', 'ZS', 'XPEV'], dtype=object),\n",
       " '',\n",
       " array(['Tesla, Inc.', 'Microsoft Corporation', 'Procter & Gamble Company',\n",
       "        'Meta Platforms, Inc.', 'Amazon.com, Inc.', 'Alphabet Inc.',\n",
       "        'Advanced Micro Devices, Inc.', 'Apple Inc.', 'Netflix, Inc.',\n",
       "        'Taiwan Semiconductor Manufacturing Company Limited',\n",
       "        'The Coca-Cola Company', 'Ford Motor Company',\n",
       "        'Costco Wholesale Corporation', 'The Walt Disney Company',\n",
       "        'Verizon Communications Inc.', 'Salesforce, Inc.',\n",
       "        'Intel Corporation', 'The Boeing Company', 'Blackstone Inc.',\n",
       "        'Northrop Grumman Corporation', 'PayPal Holdings, Inc.',\n",
       "        'Enphase Energy, Inc.', 'NIO Inc.', 'Zscaler, Inc.', 'XPeng Inc.'],\n",
       "       dtype=object))"
      ]
     },
     "execution_count": 32,
     "metadata": {},
     "output_type": "execute_result"
    }
   ],
   "source": [
    "# check the companies we working with\n",
    "tweets[\"Stock Name\"].unique(),\"\",tweets[\"Company Name\"].unique()\n"
   ]
  },
  {
   "cell_type": "code",
   "execution_count": 53,
   "id": "mysterious-denver",
   "metadata": {},
   "outputs": [
    {
     "data": {
      "text/plain": [
       "2950.3118214348506"
      ]
     },
     "execution_count": 53,
     "metadata": {},
     "output_type": "execute_result"
    }
   ],
   "source": [
    "# do simple tokenizing and calculate the S/W ratio\n",
    "tokenized = tweets.tweet.apply(lambda r: [w for w in r.split()])\n",
    "tweets.shape[0] / tokenized.apply(lambda e: len(e)).values.mean()\n"
   ]
  },
  {
   "cell_type": "code",
   "execution_count": 79,
   "id": "tutorial-fault",
   "metadata": {
    "scrolled": true
   },
   "outputs": [
    {
     "data": {
      "image/png": "[encoded data removed]",
      "text/plain": [
       "<Figure size 432x288 with 1 Axes>"
      ]
     },
     "metadata": {},
     "output_type": "display_data"
    }
   ],
   "source": [
    "# check each company occurances counts in the data\n",
    "counts_df = tweets.groupby(['Stock Name']).size().reset_index(name='counts').sort_values(['counts'], ascending=False)\n",
    "style.use('ggplot')\n",
    "plt.bar(counts_df[\"Stock Name\"].values,counts_df[\"counts\"].values)\n",
    "plt.xticks(fontsize=14, rotation=90)\n",
    "plt.show()"
   ]
  },
  {
   "cell_type": "markdown",
   "id": "hundred-schema",
   "metadata": {},
   "source": [
    "# plan\n",
    "    1. train binary sentiment classification model and get a good accuracy.\n",
    "    2. apply classification on the tweets dataset.\n",
    "    3. do some analysis on big companies by number of positive and negative classification results.\n",
    "    4. use the classification results to check correlation between tweets sentiment on a company and its stocks values in the same period.\n"
   ]
  }
 ],
 "metadata": {
  "kernelspec": {
   "display_name": "Python 3",
   "language": "python",
   "name": "python3"
  },
  "language_info": {
   "codemirror_mode": {
    "name": "ipython",
    "version": 3
   },
   "file_extension": ".py",
   "mimetype": "text/x-python",
   "name": "python",
   "nbconvert_exporter": "python",
   "pygments_lexer": "ipython3",
   "version": "3.9.2"
  }
 },
 "nbformat": 4,
 "nbformat_minor": 5
}
