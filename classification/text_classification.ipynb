{
 "cells": [
  {
   "cell_type": "code",
   "execution_count": 63,
   "id": "realistic-gothic",
   "metadata": {},
   "outputs": [],
   "source": [
    "# !pip install kaggle\n",
    "# # before using kaggle commands put kaggle.json token file in user directory\n",
    "# import zipfile\n",
    "# !kaggle datasets download -d jp797498e/twitter-entity-sentiment-analysis/code?select=twitter_validation.csv\n",
    "\n",
    "# z= zipfile.ZipFile('twitter-entity-sentiment-analysis.zip')\n",
    "# z.extractall()"
   ]
  },
  {
   "cell_type": "code",
   "execution_count": 64,
   "id": "published-slovak",
   "metadata": {},
   "outputs": [
    {
     "name": "stdout",
     "output_type": "stream",
     "text": [
      "Requirement already satisfied: nltk in c:\\users\\ayals\\appdata\\local\\programs\\python\\python39\\lib\\site-packages (3.7)\n",
      "Requirement already satisfied: regex>=2021.8.3 in c:\\users\\ayals\\appdata\\local\\programs\\python\\python39\\lib\\site-packages (from nltk) (2022.10.31)\n",
      "Requirement already satisfied: joblib in c:\\users\\ayals\\appdata\\local\\programs\\python\\python39\\lib\\site-packages (from nltk) (1.1.0)\n",
      "Requirement already satisfied: tqdm in c:\\users\\ayals\\appdata\\local\\programs\\python\\python39\\lib\\site-packages (from nltk) (4.62.3)\n",
      "Requirement already satisfied: click in c:\\users\\ayals\\appdata\\local\\programs\\python\\python39\\lib\\site-packages (from nltk) (8.1.3)\n",
      "Requirement already satisfied: colorama in c:\\users\\ayals\\appdata\\local\\programs\\python\\python39\\lib\\site-packages (from click->nltk) (0.4.4)\n"
     ]
    },
    {
     "name": "stderr",
     "output_type": "stream",
     "text": [
      "WARNING: You are using pip version 21.0.1; however, version 22.3.1 is available.\n",
      "You should consider upgrading via the 'c:\\users\\ayals\\appdata\\local\\programs\\python\\python39\\python.exe -m pip install --upgrade pip' command.\n",
      "[nltk_data] Downloading package stopwords to\n",
      "[nltk_data]     C:\\Users\\ayals\\AppData\\Roaming\\nltk_data...\n",
      "[nltk_data]   Package stopwords is already up-to-date!\n"
     ]
    }
   ],
   "source": [
    "# imports\n",
    "import numpy as np\n",
    "import pandas as pd\n",
    "import matplotlib.pyplot as plt\n",
    "from matplotlib import style\n",
    "import re\n",
    "!pip install nltk\n",
    "import nltk\n",
    "nltk.download('stopwords')\n",
    "from nltk.corpus import stopwords\n",
    "from nltk.stem import LancasterStemmer"
   ]
  },
  {
   "cell_type": "code",
   "execution_count": 65,
   "id": "warming-ministry",
   "metadata": {},
   "outputs": [
    {
     "name": "stdout",
     "output_type": "stream",
     "text": [
      "<class 'pandas.core.frame.DataFrame'>\n",
      "Int64Index: 73996 entries, 0 to 74681\n",
      "Data columns (total 2 columns):\n",
      " #   Column  Non-Null Count  Dtype \n",
      "---  ------  --------------  ----- \n",
      " 0   label   73996 non-null  object\n",
      " 1   text    73996 non-null  object\n",
      "dtypes: object(2)\n",
      "memory usage: 1.7+ MB\n",
      "<class 'pandas.core.frame.DataFrame'>\n",
      "Int64Index: 1000 entries, 0 to 999\n",
      "Data columns (total 2 columns):\n",
      " #   Column  Non-Null Count  Dtype \n",
      "---  ------  --------------  ----- \n",
      " 0   label   1000 non-null   object\n",
      " 1   text    1000 non-null   object\n",
      "dtypes: object(2)\n",
      "memory usage: 23.4+ KB\n"
     ]
    }
   ],
   "source": [
    "# data preview\n",
    "df = pd.read_csv('twitter_training.csv', names=['id', 'entity', 'label', 'text'])\n",
    "df.drop(['id', 'entity'], axis = 1, inplace = True)\n",
    "df.dropna(inplace=True)\n",
    "df.info()\n",
    "\n",
    "test_df = pd.read_csv('twitter_validation.csv',names=['id', 'entity', 'label', 'text'])\n",
    "test_df.drop(['id', 'entity'], axis = 1, inplace = True)\n",
    "test_df.dropna(inplace=True)\n",
    "test_df.info()"
   ]
  },
  {
   "cell_type": "code",
   "execution_count": 66,
   "id": "married-pizza",
   "metadata": {},
   "outputs": [
    {
     "data": {
      "image/png": "[encoded data removed]",
      "text/plain": [
       "<Figure size 432x288 with 1 Axes>"
      ]
     },
     "metadata": {},
     "output_type": "display_data"
    }
   ],
   "source": [
    "counts_df = df.groupby(['label']).size().reset_index(name='counts')\n",
    "\n",
    "style.use('ggplot')\n",
    "plt.bar(counts_df['label'], counts_df['counts'])\n",
    "plt.show()"
   ]
  },
  {
   "cell_type": "code",
   "execution_count": 67,
   "id": "nonprofit-angle",
   "metadata": {},
   "outputs": [],
   "source": [
    "# change labels to numbers\n",
    "from nltk.corpus import stopwords\n",
    "en_stops = set(stopwords.words('english'))\n",
    "lancaster=LancasterStemmer()\n",
    "en_stops = en_stops | {'im', 'ur', 'r', 'ma'}\n",
    "def filter_tokens(tokens):\n",
    "    \"\"\"\n",
    "    filter tokens by stemming and remove stopwords\n",
    "    :input:\n",
    "    tokens: list of strings\n",
    "    \n",
    "    return: \n",
    "    filterd tokens: list of strings\n",
    "    \"\"\"\n",
    "    filtered_tokens = []\n",
    "    for token in tokens:\n",
    "        token = lancaster.stem(token)\n",
    "        if token not in en_stops:\n",
    "            filtered_tokens.append(token)\n",
    "    return filtered_tokens\n",
    "\n",
    "def preprocess_df(dirty_df):\n",
    "    labels_dict = {'Positive':1, 'Neutral':0, 'Negative':2, 'Irrelevant':3}\n",
    "    dirty_df['label'] = dirty_df['label'].apply(func=lambda e: labels_dict[e])\n",
    "    \n",
    "    dirty_df['tokenized'] = dirty_df['text'].apply(lambda e: re.findall('\\w+',e.lower()))\n",
    "    \n",
    "    lens = dirty_df['tokenized'].apply(lambda e: len(e))\n",
    "\n",
    "    dirty_df = dirty_df[lens != 0]\n",
    "    \n",
    "    # stem words and remove stopwords\n",
    "    dirty_df['tokenized'] = dirty_df['tokenized'].apply(filter_tokens)\n",
    "    \n",
    "    return dirty_df, lens\n",
    "    "
   ]
  },
  {
   "cell_type": "code",
   "execution_count": 68,
   "id": "political-architect",
   "metadata": {
    "scrolled": false
   },
   "outputs": [
    {
     "name": "stderr",
     "output_type": "stream",
     "text": [
      "<ipython-input-67-7a06a710b313>:33: SettingWithCopyWarning: \n",
      "A value is trying to be set on a copy of a slice from a DataFrame.\n",
      "Try using .loc[row_indexer,col_indexer] = value instead\n",
      "\n",
      "See the caveats in the documentation: https://pandas.pydata.org/pandas-docs/stable/user_guide/indexing.html#returning-a-view-versus-a-copy\n",
      "  dirty_df['tokenized'] = dirty_df['tokenized'].apply(filter_tokens)\n"
     ]
    },
    {
     "data": {
      "text/plain": [
       "3778.596358089982"
      ]
     },
     "execution_count": 68,
     "metadata": {},
     "output_type": "execute_result"
    }
   ],
   "source": [
    "df, lens = preprocess_df(df)\n",
    "test_df, s = preprocess_df(test_df)\n",
    "df.shape[0]/lens.mean()"
   ]
  },
  {
   "cell_type": "code",
   "execution_count": 61,
   "id": "golden-classic",
   "metadata": {},
   "outputs": [
    {
     "data": {
      "text/plain": [
       "label                                                        0\n",
       "text         @nvidia<unk><unk>? But why? You buy 5 cards co...\n",
       "tokenized    [nvid, unk, unk, buy, 5, card, convint, thi, s...\n",
       "Name: 74201, dtype: object"
      ]
     },
     "execution_count": 61,
     "metadata": {},
     "output_type": "execute_result"
    }
   ],
   "source": [
    "# for i,r in df.iterrows():\n",
    "#     print(i,r['tokenized'])\n",
    "# 'not' in en_stops"
   ]
  },
  {
   "cell_type": "markdown",
   "id": "vital-couple",
   "metadata": {},
   "source": [
    "## save pre-processed data "
   ]
  },
  {
   "cell_type": "code",
   "execution_count": 69,
   "id": "regular-regular",
   "metadata": {},
   "outputs": [],
   "source": [
    "\n",
    "df.to_csv('preprocessed.csv', index = False)"
   ]
  },
  {
   "cell_type": "markdown",
   "id": "incorporate-batman",
   "metadata": {},
   "source": [
    "### we see that we should use sequence models\n",
    "### but will try both"
   ]
  },
  {
   "cell_type": "markdown",
   "id": "secure-arrangement",
   "metadata": {},
   "source": [
    "# N gram models"
   ]
  },
  {
   "cell_type": "code",
   "execution_count": null,
   "id": "permanent-granny",
   "metadata": {},
   "outputs": [],
   "source": [
    "from sklearn.feature_extraction.text import CountVectorizer\n",
    "from sklearn.feature_extraction.text import TfidfTransformer\n",
    "from sklearn.pipeline import Pipeline\n",
    "from sklearn.model_selection import train_test_split\n",
    "from sklearn.naive_bayes import MultinomialNB\n",
    "from sklearn.decomposition import TruncatedSVD\n",
    "\n",
    "pipe = Pipeline([('count', CountVectorizer(max_features=80000,ngram_range=(1,2),stop_words=en_stops,lowercase=True)),\n",
    "                 ('tfid', TfidfTransformer()),\n",
    "                 ('pca', TruncatedSVD(n_components=20000))]).fit(df['text'])\n",
    "\n",
    "x = pipe.transform(df['text'])\n",
    "y = df['label'].values\n",
    "\n",
    "X_train, X_test, Y_train, Y_test = train_test_split(x,y,test_size=0.2, random_state=42)\n"
   ]
  },
  {
   "cell_type": "markdown",
   "id": "comprehensive-grade",
   "metadata": {},
   "source": [
    "### try naive base model"
   ]
  },
  {
   "cell_type": "code",
   "execution_count": 73,
   "id": "combined-institution",
   "metadata": {},
   "outputs": [
    {
     "data": {
      "text/plain": [
       "0.8497117667005765"
      ]
     },
     "execution_count": 73,
     "metadata": {},
     "output_type": "execute_result"
    }
   ],
   "source": [
    "nb = MultinomialNB().fit(X_train,Y_train)\n",
    "nb.score(X_test,Y_test)"
   ]
  }
 ],
 "metadata": {
  "kernelspec": {
   "display_name": "Python 3",
   "language": "python",
   "name": "python3"
  },
  "language_info": {
   "codemirror_mode": {
    "name": "ipython",
    "version": 3
   },
   "file_extension": ".py",
   "mimetype": "text/x-python",
   "name": "python",
   "nbconvert_exporter": "python",
   "pygments_lexer": "ipython3",
   "version": "3.9.2"
  }
 },
 "nbformat": 4,
 "nbformat_minor": 5
}
